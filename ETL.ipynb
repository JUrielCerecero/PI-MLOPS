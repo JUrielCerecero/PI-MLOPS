{
 "cells": [
  {
   "cell_type": "code",
   "execution_count": 464,
   "metadata": {},
   "outputs": [],
   "source": [
    "import pandas as pd\n",
    "import ast\n",
    "import numpy as np\n",
    "import datetime as dt\n",
    "from bs4 import BeautifulSoup\n",
    "import requests\n",
    "from textblob import TextBlob\n",
    "import emoji"
   ]
  },
  {
   "cell_type": "markdown",
   "metadata": {},
   "source": [
    "# Limpieza y transformación del dataset de output steam games"
   ]
  },
  {
   "cell_type": "code",
   "execution_count": 465,
   "metadata": {},
   "outputs": [],
   "source": [
    "# pasamos los archivos a un Dataframe\n",
    "dfoutput=pd.read_json(r'output_steam_games.json',lines=True, encoding='MacRoman')"
   ]
  },
  {
   "cell_type": "code",
   "execution_count": 466,
   "metadata": {},
   "outputs": [
    {
     "data": {
      "text/plain": [
       "publisher                                                    None\n",
       "genres                                                       None\n",
       "app_name                                              Maze Run VR\n",
       "title                                                        None\n",
       "url             http://store.steampowered.com/app/681550/Maze_...\n",
       "release_date                                                 None\n",
       "tags            [Early Access, Adventure, Indie, Action, Simul...\n",
       "reviews_url     http://steamcommunity.com/app/681550/reviews/?...\n",
       "specs           [Single-player, Stats, Steam Leaderboards, HTC...\n",
       "price                                                        4.99\n",
       "early_access                                                  1.0\n",
       "id                                                       681550.0\n",
       "developer                                                    None\n",
       "Name: 120444, dtype: object"
      ]
     },
     "execution_count": 466,
     "metadata": {},
     "output_type": "execute_result"
    }
   ],
   "source": [
    "dfoutput.iloc[-1]"
   ]
  },
  {
   "cell_type": "code",
   "execution_count": 467,
   "metadata": {},
   "outputs": [],
   "source": [
    "#conservamos las columnas que nos van a servir para nuestros objetivos\n",
    "dfjuegos=pd.DataFrame(dfoutput[['id','app_name','developer','publisher','release_date']].drop_duplicates()[1:])"
   ]
  },
  {
   "cell_type": "code",
   "execution_count": 468,
   "metadata": {},
   "outputs": [
    {
     "name": "stdout",
     "output_type": "stream",
     "text": [
      "<class 'pandas.core.frame.DataFrame'>\n",
      "Index: 32133 entries, 88310 to 120444\n",
      "Data columns (total 5 columns):\n",
      " #   Column        Non-Null Count  Dtype  \n",
      "---  ------        --------------  -----  \n",
      " 0   id            32132 non-null  float64\n",
      " 1   app_name      32132 non-null  object \n",
      " 2   developer     28835 non-null  object \n",
      " 3   publisher     24082 non-null  object \n",
      " 4   release_date  30067 non-null  object \n",
      "dtypes: float64(1), object(4)\n",
      "memory usage: 1.5+ MB\n"
     ]
    }
   ],
   "source": [
    "dfjuegos.info()"
   ]
  },
  {
   "cell_type": "code",
   "execution_count": 469,
   "metadata": {},
   "outputs": [
    {
     "data": {
      "text/plain": [
       "id                 1\n",
       "app_name           1\n",
       "developer       3298\n",
       "publisher       8051\n",
       "release_date    2066\n",
       "dtype: int64"
      ]
     },
     "execution_count": 469,
     "metadata": {},
     "output_type": "execute_result"
    }
   ],
   "source": [
    "#buscamos nulos en el dataframe para tratarlos\n",
    "dfjuegos.isnull().sum()"
   ]
  },
  {
   "cell_type": "code",
   "execution_count": 470,
   "metadata": {},
   "outputs": [
    {
     "data": {
      "text/html": [
       "<div>\n",
       "<style scoped>\n",
       "    .dataframe tbody tr th:only-of-type {\n",
       "        vertical-align: middle;\n",
       "    }\n",
       "\n",
       "    .dataframe tbody tr th {\n",
       "        vertical-align: top;\n",
       "    }\n",
       "\n",
       "    .dataframe thead th {\n",
       "        text-align: right;\n",
       "    }\n",
       "</style>\n",
       "<table border=\"1\" class=\"dataframe\">\n",
       "  <thead>\n",
       "    <tr style=\"text-align: right;\">\n",
       "      <th></th>\n",
       "      <th>id</th>\n",
       "      <th>app_name</th>\n",
       "      <th>developer</th>\n",
       "      <th>publisher</th>\n",
       "      <th>release_date</th>\n",
       "    </tr>\n",
       "  </thead>\n",
       "  <tbody>\n",
       "    <tr>\n",
       "      <th>119271</th>\n",
       "      <td>NaN</td>\n",
       "      <td>Batman: Arkham City - Game of the Year Edition</td>\n",
       "      <td>Rocksteady Studios,Feral Interactive (Mac)</td>\n",
       "      <td>Warner Bros. Interactive Entertainment, Feral ...</td>\n",
       "      <td>2012-09-07</td>\n",
       "    </tr>\n",
       "  </tbody>\n",
       "</table>\n",
       "</div>"
      ],
      "text/plain": [
       "        id                                        app_name  \\\n",
       "119271 NaN  Batman: Arkham City - Game of the Year Edition   \n",
       "\n",
       "                                         developer  \\\n",
       "119271  Rocksteady Studios,Feral Interactive (Mac)   \n",
       "\n",
       "                                                publisher release_date  \n",
       "119271  Warner Bros. Interactive Entertainment, Feral ...   2012-09-07  "
      ]
     },
     "execution_count": 470,
     "metadata": {},
     "output_type": "execute_result"
    }
   ],
   "source": [
    "#vemos un nulo en id\n",
    "dfjuegos[dfjuegos.id.isnull()]"
   ]
  },
  {
   "cell_type": "code",
   "execution_count": 471,
   "metadata": {},
   "outputs": [
    {
     "name": "stdout",
     "output_type": "stream",
     "text": [
      "              id                                        app_name  \\\n",
      "89378   200260.0  Batman: Arkham City - Game of the Year Edition   \n",
      "119271       NaN  Batman: Arkham City - Game of the Year Edition   \n",
      "\n",
      "                                         developer  \\\n",
      "89378   Rocksteady Studios,Feral Interactive (Mac)   \n",
      "119271  Rocksteady Studios,Feral Interactive (Mac)   \n",
      "\n",
      "                                                publisher release_date  \n",
      "89378   Warner Bros. Interactive Entertainment, Feral ...   2012-09-07  \n",
      "119271  Warner Bros. Interactive Entertainment, Feral ...   2012-09-07  \n"
     ]
    },
    {
     "data": {
      "text/plain": [
       "id                 0\n",
       "app_name           1\n",
       "developer       3298\n",
       "publisher       8051\n",
       "release_date    2066\n",
       "dtype: int64"
      ]
     },
     "execution_count": 471,
     "metadata": {},
     "output_type": "execute_result"
    }
   ],
   "source": [
    "#verficamos si esta duplicado y efectivamente parece que lo esta, comprobamos quitando la columna id\n",
    "print(dfjuegos[dfjuegos.app_name==dfjuegos.app_name[dfjuegos.id.isnull()].iloc[0]])\n",
    "dfjuegos.drop(index=dfjuegos.loc[dfjuegos.id.isnull()].index[0],inplace=True)\n",
    "dfjuegos.isnull().sum()"
   ]
  },
  {
   "cell_type": "code",
   "execution_count": 472,
   "metadata": {},
   "outputs": [
    {
     "name": "stdout",
     "output_type": "stream",
     "text": [
      "<class 'pandas.core.frame.DataFrame'>\n",
      "Index: 32132 entries, 88310 to 120444\n",
      "Data columns (total 5 columns):\n",
      " #   Column        Non-Null Count  Dtype \n",
      "---  ------        --------------  ----- \n",
      " 0   id            32132 non-null  int32 \n",
      " 1   app_name      32131 non-null  object\n",
      " 2   developer     28834 non-null  object\n",
      " 3   publisher     24081 non-null  object\n",
      " 4   release_date  30066 non-null  object\n",
      "dtypes: int32(1), object(4)\n",
      "memory usage: 1.3+ MB\n"
     ]
    }
   ],
   "source": [
    "#cambiamos el tipo de dato de la columna id a int\n",
    "dfjuegos['id']=dfjuegos.id.astype(int)\n",
    "dfjuegos.info()"
   ]
  },
  {
   "cell_type": "code",
   "execution_count": 473,
   "metadata": {},
   "outputs": [
    {
     "data": {
      "text/html": [
       "<div>\n",
       "<style scoped>\n",
       "    .dataframe tbody tr th:only-of-type {\n",
       "        vertical-align: middle;\n",
       "    }\n",
       "\n",
       "    .dataframe tbody tr th {\n",
       "        vertical-align: top;\n",
       "    }\n",
       "\n",
       "    .dataframe thead th {\n",
       "        text-align: right;\n",
       "    }\n",
       "</style>\n",
       "<table border=\"1\" class=\"dataframe\">\n",
       "  <thead>\n",
       "    <tr style=\"text-align: right;\">\n",
       "      <th></th>\n",
       "      <th>id</th>\n",
       "      <th>app_name</th>\n",
       "      <th>developer</th>\n",
       "      <th>publisher</th>\n",
       "      <th>release_date</th>\n",
       "    </tr>\n",
       "  </thead>\n",
       "  <tbody>\n",
       "    <tr>\n",
       "      <th>90890</th>\n",
       "      <td>317160</td>\n",
       "      <td>None</td>\n",
       "      <td>None</td>\n",
       "      <td>None</td>\n",
       "      <td>2014-08-26</td>\n",
       "    </tr>\n",
       "  </tbody>\n",
       "</table>\n",
       "</div>"
      ],
      "text/plain": [
       "           id app_name developer publisher release_date\n",
       "90890  317160     None      None      None   2014-08-26"
      ]
     },
     "execution_count": 473,
     "metadata": {},
     "output_type": "execute_result"
    }
   ],
   "source": [
    "#vemos 1 nulo en app_name\n",
    "dfjuegos[dfjuegos.app_name.isnull()]"
   ]
  },
  {
   "cell_type": "code",
   "execution_count": 474,
   "metadata": {},
   "outputs": [
    {
     "data": {
      "text/plain": [
       "'http://store.steampowered.com/app/317160/_/'"
      ]
     },
     "execution_count": 474,
     "metadata": {},
     "output_type": "execute_result"
    }
   ],
   "source": [
    "# el nulo en app_name lo sacamos del url del juego\n",
    "url=dfoutput.url[dfoutput.id==dfjuegos.id[dfjuegos.app_name.isnull()].iloc[0]].iloc[0]\n",
    "url"
   ]
  },
  {
   "cell_type": "code",
   "execution_count": 475,
   "metadata": {},
   "outputs": [
    {
     "data": {
      "text/plain": [
       "'Duet'"
      ]
     },
     "execution_count": 475,
     "metadata": {},
     "output_type": "execute_result"
    }
   ],
   "source": [
    "response = requests.get(url)\n",
    "html = response.text\n",
    "soup = BeautifulSoup(html, 'html.parser')\n",
    "titulo=soup.head.title\n",
    "titulo=titulo.text\n",
    "titulo=titulo.removesuffix(' on Steam')\n",
    "titulo"
   ]
  },
  {
   "cell_type": "code",
   "execution_count": 476,
   "metadata": {},
   "outputs": [
    {
     "data": {
      "text/plain": [
       "id                 0\n",
       "app_name           0\n",
       "developer       3298\n",
       "publisher       8051\n",
       "release_date    2066\n",
       "dtype: int64"
      ]
     },
     "execution_count": 476,
     "metadata": {},
     "output_type": "execute_result"
    }
   ],
   "source": [
    "#colocamos el nombre de la aplicacion faltante obtenido de la pagina web y verificamos que la columna app_name ya no tiene nulos\n",
    "dfjuegos.loc[dfjuegos.app_name.isnull(),'app_name']=titulo\n",
    "dfjuegos.isnull().sum()"
   ]
  },
  {
   "cell_type": "code",
   "execution_count": 477,
   "metadata": {},
   "outputs": [
    {
     "data": {
      "text/plain": [
       "id                 0\n",
       "app_name           0\n",
       "developer          0\n",
       "publisher       8051\n",
       "release_date    2066\n",
       "dtype: int64"
      ]
     },
     "execution_count": 477,
     "metadata": {},
     "output_type": "execute_result"
    }
   ],
   "source": [
    "# sustituimos valores nulos de la columna desarrolladores con la columna de publihser, solo en las filas donde no hya nulos en publisher\n",
    "dfjuegos.loc[(dfjuegos.developer.isnull())&(~dfjuegos.publisher.isnull()),'developer']=dfjuegos.publisher\n",
    "#sustituimos lo valores nulos restantes con 'N/D'\n",
    "dfjuegos.loc[(dfjuegos.developer.isnull()),'developer']='N/D'\n",
    "dfjuegos.isnull().sum()"
   ]
  },
  {
   "cell_type": "code",
   "execution_count": 478,
   "metadata": {},
   "outputs": [
    {
     "name": "stdout",
     "output_type": "stream",
     "text": [
      "<class 'pandas.core.frame.DataFrame'>\n",
      "Index: 32132 entries, 88310 to 120444\n",
      "Data columns (total 4 columns):\n",
      " #   Column        Non-Null Count  Dtype \n",
      "---  ------        --------------  ----- \n",
      " 0   id            32132 non-null  int32 \n",
      " 1   app_name      32132 non-null  object\n",
      " 2   developer     32132 non-null  object\n",
      " 3   release_date  30066 non-null  object\n",
      "dtypes: int32(1), object(3)\n",
      "memory usage: 2.1+ MB\n"
     ]
    }
   ],
   "source": [
    "#quitamos la columna publisher, ya que solo nos interesa la de desarrollador\n",
    "dfjuegos.drop(columns='publisher',inplace=True)\n",
    "dfjuegos.info()"
   ]
  },
  {
   "cell_type": "code",
   "execution_count": 479,
   "metadata": {},
   "outputs": [],
   "source": [
    "#sacamos el año de lanzamiento de la columna release_date y quitamos la columna release_date\n",
    "dfjuegos['Año_lanzamiento']=dfjuegos.release_date.str.split('-',expand=True)[0]\n"
   ]
  },
  {
   "cell_type": "code",
   "execution_count": 480,
   "metadata": {},
   "outputs": [
    {
     "data": {
      "text/html": [
       "<div>\n",
       "<style scoped>\n",
       "    .dataframe tbody tr th:only-of-type {\n",
       "        vertical-align: middle;\n",
       "    }\n",
       "\n",
       "    .dataframe tbody tr th {\n",
       "        vertical-align: top;\n",
       "    }\n",
       "\n",
       "    .dataframe thead th {\n",
       "        text-align: right;\n",
       "    }\n",
       "</style>\n",
       "<table border=\"1\" class=\"dataframe\">\n",
       "  <thead>\n",
       "    <tr style=\"text-align: right;\">\n",
       "      <th></th>\n",
       "      <th>id</th>\n",
       "      <th>app_name</th>\n",
       "      <th>developer</th>\n",
       "      <th>release_date</th>\n",
       "      <th>Año_lanzamiento</th>\n",
       "    </tr>\n",
       "  </thead>\n",
       "  <tbody>\n",
       "    <tr>\n",
       "      <th>88310</th>\n",
       "      <td>761140</td>\n",
       "      <td>Lost Summoner Kitty</td>\n",
       "      <td>Kotoshiro</td>\n",
       "      <td>2018-01-04</td>\n",
       "      <td>2018</td>\n",
       "    </tr>\n",
       "    <tr>\n",
       "      <th>88311</th>\n",
       "      <td>643980</td>\n",
       "      <td>Ironbound</td>\n",
       "      <td>Secret Level SRL</td>\n",
       "      <td>2018-01-04</td>\n",
       "      <td>2018</td>\n",
       "    </tr>\n",
       "    <tr>\n",
       "      <th>88312</th>\n",
       "      <td>670290</td>\n",
       "      <td>Real Pool 3D - Poolians</td>\n",
       "      <td>Poolians.com</td>\n",
       "      <td>2017-07-24</td>\n",
       "      <td>2017</td>\n",
       "    </tr>\n",
       "    <tr>\n",
       "      <th>88313</th>\n",
       "      <td>767400</td>\n",
       "      <td>弹炸人2222</td>\n",
       "      <td>彼岸领域</td>\n",
       "      <td>2017-12-07</td>\n",
       "      <td>2017</td>\n",
       "    </tr>\n",
       "    <tr>\n",
       "      <th>88314</th>\n",
       "      <td>773570</td>\n",
       "      <td>Log Challenge</td>\n",
       "      <td>N/D</td>\n",
       "      <td>None</td>\n",
       "      <td>None</td>\n",
       "    </tr>\n",
       "  </tbody>\n",
       "</table>\n",
       "</div>"
      ],
      "text/plain": [
       "           id                 app_name         developer release_date  \\\n",
       "88310  761140      Lost Summoner Kitty         Kotoshiro   2018-01-04   \n",
       "88311  643980                Ironbound  Secret Level SRL   2018-01-04   \n",
       "88312  670290  Real Pool 3D - Poolians      Poolians.com   2017-07-24   \n",
       "88313  767400                  弹炸人2222              彼岸领域   2017-12-07   \n",
       "88314  773570            Log Challenge               N/D         None   \n",
       "\n",
       "      Año_lanzamiento  \n",
       "88310            2018  \n",
       "88311            2018  \n",
       "88312            2017  \n",
       "88313            2017  \n",
       "88314            None  "
      ]
     },
     "execution_count": 480,
     "metadata": {},
     "output_type": "execute_result"
    }
   ],
   "source": [
    "dfjuegos.head()"
   ]
  },
  {
   "cell_type": "code",
   "execution_count": 481,
   "metadata": {},
   "outputs": [],
   "source": [
    "#renombramos los nombres de las columnas\n",
    "dfjuegos.rename(columns={'Año lanzamiento':'Año_lanzamiento','app_name':'Nombre','developer':'Desarrollador','id':'Id_juego'},inplace=True)"
   ]
  },
  {
   "cell_type": "code",
   "execution_count": 440,
   "metadata": {},
   "outputs": [
    {
     "data": {
      "text/plain": [
       "['1970', '1975', '1980', '1981', '1982']"
      ]
     },
     "execution_count": 440,
     "metadata": {},
     "output_type": "execute_result"
    }
   ],
   "source": [
    "#hacemos una lista de los años que hay en la columna Año_de_lanzamiento\n",
    "años=[]\n",
    "for a in dfjuegos.Año_lanzamiento.sort_values().unique():\n",
    "    try:\n",
    "        int(a)\n",
    "    except:\n",
    "        continue\n",
    "    else:\n",
    "        años.append(a)\n",
    "años[0:5]"
   ]
  },
  {
   "cell_type": "code",
   "execution_count": 483,
   "metadata": {},
   "outputs": [],
   "source": [
    "#cambiamos las filas que tienen el año en una parte de su cadena a contener solo el dato del año\n",
    "for a in años:\n",
    "    dfjuegos.loc[dfjuegos.Año_lanzamiento.str.contains(a,na=False),'Año_lanzamiento']=a"
   ]
  },
  {
   "cell_type": "code",
   "execution_count": 484,
   "metadata": {},
   "outputs": [
    {
     "data": {
      "text/plain": [
       "array(['\"\"\"Soon\"\"\"',\n",
       "       '0̵1̴0̵0̶1̷0̶0̵0̴ ̴0̶0̶1̶1̶0̷0̶1̵1̴ ̸0̶0̶1̶1̵0̶1̷0̴0̵ ̴0̶1̷0̸1̵0̷0̴1̶0̴ ̴0̷0̴1̷1̶0̶1̵1̷1̵ ̵',\n",
       "       '14 July', '1970', '1975', '1980', '1981', '1982', '1983', '1984',\n",
       "       '1985', '1986', '1987', '1988', '1989', '1990', '1991', '1992',\n",
       "       '1993', '1994', '1995', '1996', '1997', '1998', '1999', '2000',\n",
       "       '2001', '2002', '2003', '2004', '2005', '2006', '2007', '2008',\n",
       "       '2009', '2010', '2011', '2012', '2013', '2014', '2015', '2016',\n",
       "       '2017', '2018', '2019', '2021', 'Beta测试已开启',\n",
       "       \"C'est bientôt...                    (ou pas)\", 'Coming Soon',\n",
       "       'Coming Soon!', 'Coming Soon/Próximamente', 'Coming soon',\n",
       "       'Coming soon..', 'Comming Soon',\n",
       "       'Datachunks conflicted. Be vigiliant.', 'Demo coming soon.',\n",
       "       'Demo is available now!', 'Early Access Starting Soon!',\n",
       "       'Early Access soon', 'Not yet available', 'Play Beta in demo!',\n",
       "       'Please wait warmly', 'Release Date TBA', 'SOON', 'SOON™', 'Soon',\n",
       "       'Soon..', 'Soon™', 'TBA', 'TBD', 'To Be Announced',\n",
       "       'To be Announced', 'To be announced', 'When it is finished',\n",
       "       'When it is ready', \"When it's done\", \"When it's done!\",\n",
       "       'coming soon', 'early access', 'soon', '预热群52756441', None],\n",
       "      dtype=object)"
      ]
     },
     "execution_count": 484,
     "metadata": {},
     "output_type": "execute_result"
    }
   ],
   "source": [
    "dfjuegos.Año_lanzamiento.sort_values().unique()"
   ]
  },
  {
   "cell_type": "code",
   "execution_count": 311,
   "metadata": {},
   "outputs": [
    {
     "data": {
      "text/plain": [
       "['\"\"\"Soon\"\"\"',\n",
       " '0̵1̴0̵0̶1̷0̶0̵0̴ ̴0̶0̶1̶1̶0̷0̶1̵1̴ ̸0̶0̶1̶1̵0̶1̷0̴0̵ ̴0̶1̷0̸1̵0̷0̴1̶0̴ ̴0̷0̴1̷1̶0̶1̵1̷1̵ ̵',\n",
       " '14 July',\n",
       " 'Beta测试已开启',\n",
       " \"C'est bientôt...                    (ou pas)\",\n",
       " 'Coming Soon',\n",
       " 'Coming Soon!',\n",
       " 'Coming Soon/Próximamente',\n",
       " 'Coming soon',\n",
       " 'Coming soon..',\n",
       " 'Comming Soon',\n",
       " 'Datachunks conflicted. Be vigiliant.',\n",
       " 'Demo coming soon.',\n",
       " 'Demo is available now!',\n",
       " 'Early Access Starting Soon!',\n",
       " 'Early Access soon',\n",
       " 'Not yet available',\n",
       " 'Play Beta in demo!',\n",
       " 'Please wait warmly',\n",
       " 'Release Date TBA',\n",
       " 'SOON',\n",
       " 'SOON™',\n",
       " 'Soon',\n",
       " 'Soon..',\n",
       " 'Soon™',\n",
       " 'TBA',\n",
       " 'TBD',\n",
       " 'To Be Announced',\n",
       " 'To be Announced',\n",
       " 'To be announced',\n",
       " 'When it is finished',\n",
       " 'When it is ready',\n",
       " \"When it's done\",\n",
       " \"When it's done!\",\n",
       " 'coming soon',\n",
       " 'early access',\n",
       " 'soon',\n",
       " '预热群52756441',\n",
       " None]"
      ]
     },
     "execution_count": 311,
     "metadata": {},
     "output_type": "execute_result"
    }
   ],
   "source": [
    "# se hace una lista de los datos que asiguen pendientes en la columna año de lanzamiento, y haciendo investigacion se encuentra que los juegos fueron lanzados del 2018 en adelante\n",
    "datossinaño=[]\n",
    "for a in dfjuegos.Año_lanzamiento.sort_values().unique():\n",
    "    if a not in años:\n",
    "        datossinaño.append(a)\n",
    "datossinaño"
   ]
  },
  {
   "cell_type": "code",
   "execution_count": 492,
   "metadata": {},
   "outputs": [
    {
     "data": {
      "text/html": [
       "<div>\n",
       "<style scoped>\n",
       "    .dataframe tbody tr th:only-of-type {\n",
       "        vertical-align: middle;\n",
       "    }\n",
       "\n",
       "    .dataframe tbody tr th {\n",
       "        vertical-align: top;\n",
       "    }\n",
       "\n",
       "    .dataframe thead th {\n",
       "        text-align: right;\n",
       "    }\n",
       "</style>\n",
       "<table border=\"1\" class=\"dataframe\">\n",
       "  <thead>\n",
       "    <tr style=\"text-align: right;\">\n",
       "      <th></th>\n",
       "      <th>Id_juego</th>\n",
       "      <th>Nombre</th>\n",
       "      <th>Desarrollador</th>\n",
       "      <th>release_date</th>\n",
       "      <th>Año_lanzamiento</th>\n",
       "    </tr>\n",
       "  </thead>\n",
       "  <tbody>\n",
       "    <tr>\n",
       "      <th>98793</th>\n",
       "      <td>658340</td>\n",
       "      <td>Edge of Insanity</td>\n",
       "      <td>Grotta Game Studio</td>\n",
       "      <td>14 July</td>\n",
       "      <td>14 July</td>\n",
       "    </tr>\n",
       "  </tbody>\n",
       "</table>\n",
       "</div>"
      ],
      "text/plain": [
       "       Id_juego            Nombre       Desarrollador release_date  \\\n",
       "98793    658340  Edge of Insanity  Grotta Game Studio      14 July   \n",
       "\n",
       "      Año_lanzamiento  \n",
       "98793         14 July  "
      ]
     },
     "execution_count": 492,
     "metadata": {},
     "output_type": "execute_result"
    }
   ],
   "source": [
    "dfjuegos[dfjuegos.Año_lanzamiento=='14 July']"
   ]
  },
  {
   "cell_type": "code",
   "execution_count": 312,
   "metadata": {},
   "outputs": [],
   "source": [
    "#falta comprobar si los videjugos que no tienen año son relevantes para las funciones y en caso que no, hare la conversion despues al año 2018 que es al año en que la mayoria se lanzaron"
   ]
  },
  {
   "cell_type": "code",
   "execution_count": 313,
   "metadata": {},
   "outputs": [],
   "source": [
    "# unimos los generos al dataframe de juegos\n",
    "dfjuegos=dfjuegos.join(dfoutput[['genres','tags']],how='inner')\n"
   ]
  },
  {
   "cell_type": "code",
   "execution_count": 314,
   "metadata": {},
   "outputs": [
    {
     "data": {
      "text/html": [
       "<div>\n",
       "<style scoped>\n",
       "    .dataframe tbody tr th:only-of-type {\n",
       "        vertical-align: middle;\n",
       "    }\n",
       "\n",
       "    .dataframe tbody tr th {\n",
       "        vertical-align: top;\n",
       "    }\n",
       "\n",
       "    .dataframe thead th {\n",
       "        text-align: right;\n",
       "    }\n",
       "</style>\n",
       "<table border=\"1\" class=\"dataframe\">\n",
       "  <thead>\n",
       "    <tr style=\"text-align: right;\">\n",
       "      <th></th>\n",
       "      <th>Id_juego</th>\n",
       "      <th>Nombre</th>\n",
       "      <th>Desarrollador</th>\n",
       "      <th>Año_lanzamiento</th>\n",
       "      <th>genres</th>\n",
       "      <th>tags</th>\n",
       "    </tr>\n",
       "  </thead>\n",
       "  <tbody>\n",
       "    <tr>\n",
       "      <th>88310</th>\n",
       "      <td>761140</td>\n",
       "      <td>Lost Summoner Kitty</td>\n",
       "      <td>Kotoshiro</td>\n",
       "      <td>2018</td>\n",
       "      <td>[Action, Casual, Indie, Simulation, Strategy]</td>\n",
       "      <td>[Strategy, Action, Indie, Casual, Simulation]</td>\n",
       "    </tr>\n",
       "    <tr>\n",
       "      <th>88311</th>\n",
       "      <td>643980</td>\n",
       "      <td>Ironbound</td>\n",
       "      <td>Secret Level SRL</td>\n",
       "      <td>2018</td>\n",
       "      <td>[Free to Play, Indie, RPG, Strategy]</td>\n",
       "      <td>[Free to Play, Strategy, Indie, RPG, Card Game...</td>\n",
       "    </tr>\n",
       "    <tr>\n",
       "      <th>88312</th>\n",
       "      <td>670290</td>\n",
       "      <td>Real Pool 3D - Poolians</td>\n",
       "      <td>Poolians.com</td>\n",
       "      <td>2017</td>\n",
       "      <td>[Casual, Free to Play, Indie, Simulation, Sports]</td>\n",
       "      <td>[Free to Play, Simulation, Sports, Casual, Ind...</td>\n",
       "    </tr>\n",
       "    <tr>\n",
       "      <th>88313</th>\n",
       "      <td>767400</td>\n",
       "      <td>弹炸人2222</td>\n",
       "      <td>彼岸领域</td>\n",
       "      <td>2017</td>\n",
       "      <td>[Action, Adventure, Casual]</td>\n",
       "      <td>[Action, Adventure, Casual]</td>\n",
       "    </tr>\n",
       "    <tr>\n",
       "      <th>88314</th>\n",
       "      <td>773570</td>\n",
       "      <td>Log Challenge</td>\n",
       "      <td>N/D</td>\n",
       "      <td>None</td>\n",
       "      <td>None</td>\n",
       "      <td>[Action, Indie, Casual, Sports]</td>\n",
       "    </tr>\n",
       "  </tbody>\n",
       "</table>\n",
       "</div>"
      ],
      "text/plain": [
       "       Id_juego                   Nombre     Desarrollador Año_lanzamiento  \\\n",
       "88310    761140      Lost Summoner Kitty         Kotoshiro            2018   \n",
       "88311    643980                Ironbound  Secret Level SRL            2018   \n",
       "88312    670290  Real Pool 3D - Poolians      Poolians.com            2017   \n",
       "88313    767400                  弹炸人2222              彼岸领域            2017   \n",
       "88314    773570            Log Challenge               N/D            None   \n",
       "\n",
       "                                                  genres  \\\n",
       "88310      [Action, Casual, Indie, Simulation, Strategy]   \n",
       "88311               [Free to Play, Indie, RPG, Strategy]   \n",
       "88312  [Casual, Free to Play, Indie, Simulation, Sports]   \n",
       "88313                        [Action, Adventure, Casual]   \n",
       "88314                                               None   \n",
       "\n",
       "                                                    tags  \n",
       "88310      [Strategy, Action, Indie, Casual, Simulation]  \n",
       "88311  [Free to Play, Strategy, Indie, RPG, Card Game...  \n",
       "88312  [Free to Play, Simulation, Sports, Casual, Ind...  \n",
       "88313                        [Action, Adventure, Casual]  \n",
       "88314                    [Action, Indie, Casual, Sports]  "
      ]
     },
     "execution_count": 314,
     "metadata": {},
     "output_type": "execute_result"
    }
   ],
   "source": [
    "dfjuegos.head()"
   ]
  },
  {
   "cell_type": "code",
   "execution_count": 315,
   "metadata": {},
   "outputs": [
    {
     "name": "stdout",
     "output_type": "stream",
     "text": [
      "['Accounting', 'Action', 'Adventure', 'Animation &amp; Modeling', 'Audio Production', 'Casual', 'Design &amp; Illustration', 'Early Access', 'Education', 'Free to Play', 'Indie', 'Massively Multiplayer', 'Photo Editing', 'RPG', 'Racing', 'Simulation', 'Software Training', 'Sports', 'Strategy', 'Utilities', 'Video Production', 'Web Publishing']\n"
     ]
    }
   ],
   "source": [
    "# creamos una lista con los generos existentes\n",
    "generos=[]\n",
    "for a in dfjuegos.genres.dropna().drop_duplicates():\n",
    "    for b in a:\n",
    "        if b not in generos:\n",
    "            generos.append(b)\n",
    "generos=sorted(generos)\n",
    "print(generos)"
   ]
  },
  {
   "cell_type": "code",
   "execution_count": 316,
   "metadata": {},
   "outputs": [
    {
     "data": {
      "text/html": [
       "<div>\n",
       "<style scoped>\n",
       "    .dataframe tbody tr th:only-of-type {\n",
       "        vertical-align: middle;\n",
       "    }\n",
       "\n",
       "    .dataframe tbody tr th {\n",
       "        vertical-align: top;\n",
       "    }\n",
       "\n",
       "    .dataframe thead th {\n",
       "        text-align: right;\n",
       "    }\n",
       "</style>\n",
       "<table border=\"1\" class=\"dataframe\">\n",
       "  <thead>\n",
       "    <tr style=\"text-align: right;\">\n",
       "      <th></th>\n",
       "      <th>tags</th>\n",
       "    </tr>\n",
       "  </thead>\n",
       "  <tbody>\n",
       "    <tr>\n",
       "      <th>88314</th>\n",
       "      <td>[Action, Indie, Casual, Sports]</td>\n",
       "    </tr>\n",
       "    <tr>\n",
       "      <th>88321</th>\n",
       "      <td>[Casual]</td>\n",
       "    </tr>\n",
       "    <tr>\n",
       "      <th>88329</th>\n",
       "      <td>[Early Access, Indie, VR]</td>\n",
       "    </tr>\n",
       "    <tr>\n",
       "      <th>88330</th>\n",
       "      <td>[Early Access, Action, Adventure, Indie, Casual]</td>\n",
       "    </tr>\n",
       "    <tr>\n",
       "      <th>88332</th>\n",
       "      <td>[Early Access, Strategy, Action, Indie, Casual...</td>\n",
       "    </tr>\n",
       "    <tr>\n",
       "      <th>...</th>\n",
       "      <td>...</td>\n",
       "    </tr>\n",
       "    <tr>\n",
       "      <th>120428</th>\n",
       "      <td>[Design &amp; Illustration, Tutorial]</td>\n",
       "    </tr>\n",
       "    <tr>\n",
       "      <th>120429</th>\n",
       "      <td>[Design &amp; Illustration, Tutorial]</td>\n",
       "    </tr>\n",
       "    <tr>\n",
       "      <th>120430</th>\n",
       "      <td>[Movie]</td>\n",
       "    </tr>\n",
       "    <tr>\n",
       "      <th>120431</th>\n",
       "      <td>[Design &amp; Illustration, Tutorial]</td>\n",
       "    </tr>\n",
       "    <tr>\n",
       "      <th>120444</th>\n",
       "      <td>[Early Access, Adventure, Indie, Action, Simul...</td>\n",
       "    </tr>\n",
       "  </tbody>\n",
       "</table>\n",
       "<p>3144 rows × 1 columns</p>\n",
       "</div>"
      ],
      "text/plain": [
       "                                                     tags\n",
       "88314                     [Action, Indie, Casual, Sports]\n",
       "88321                                            [Casual]\n",
       "88329                           [Early Access, Indie, VR]\n",
       "88330    [Early Access, Action, Adventure, Indie, Casual]\n",
       "88332   [Early Access, Strategy, Action, Indie, Casual...\n",
       "...                                                   ...\n",
       "120428                  [Design & Illustration, Tutorial]\n",
       "120429                  [Design & Illustration, Tutorial]\n",
       "120430                                            [Movie]\n",
       "120431                  [Design & Illustration, Tutorial]\n",
       "120444  [Early Access, Adventure, Indie, Action, Simul...\n",
       "\n",
       "[3144 rows x 1 columns]"
      ]
     },
     "execution_count": 316,
     "metadata": {},
     "output_type": "execute_result"
    }
   ],
   "source": [
    "# En la columna tags tenemos algunos valores de los generos que faltan en la columna generos\n",
    "#los tomareos de ahi haciendonuna lista solo con los generos que tenenos ya en la columna generos\n",
    "dfjuegos.loc[(dfjuegos.genres.isnull())&(~dfjuegos.tags.isnull()),['tags']].apply(lambda x: [a for a in x if a in generos])\n",
    "dfjuegos.loc[(dfjuegos.genres.isnull())&(~dfjuegos.tags.isnull()),['tags']]\n",
    "            "
   ]
  },
  {
   "cell_type": "code",
   "execution_count": 317,
   "metadata": {},
   "outputs": [
    {
     "data": {
      "text/plain": [
       "Id_juego              0\n",
       "Nombre                0\n",
       "Desarrollador         0\n",
       "Año_lanzamiento    2066\n",
       "genres              138\n",
       "tags                162\n",
       "dtype: int64"
      ]
     },
     "execution_count": 317,
     "metadata": {},
     "output_type": "execute_result"
    }
   ],
   "source": [
    "# una vez que tenemos en tags solo los generos que falatan de la columna genres, los sustituimos\n",
    "\n",
    "dfjuegos.loc[(dfjuegos.genres.isnull())&(~dfjuegos.tags.isnull()),['genres']]=dfjuegos.tags\n",
    "\n",
    "dfjuegos.isnull().sum()"
   ]
  },
  {
   "cell_type": "code",
   "execution_count": 318,
   "metadata": {},
   "outputs": [
    {
     "data": {
      "text/plain": [
       "Id_juego              0\n",
       "Nombre                0\n",
       "Desarrollador         0\n",
       "Año_lanzamiento    2066\n",
       "genres                0\n",
       "dtype: int64"
      ]
     },
     "execution_count": 318,
     "metadata": {},
     "output_type": "execute_result"
    }
   ],
   "source": [
    "# el resto de valores nulos de la columna genres los sustituimos por el valor 'N/D' y eliminamos la columna tagss, ya que ya no la utlizaremos\n",
    "dfjuegos.loc[(dfjuegos.genres.isnull()),'genres']='N/D'\n",
    "dfjuegos.drop(columns='tags',inplace=True)\n",
    "dfjuegos.isnull().sum()\n"
   ]
  },
  {
   "cell_type": "code",
   "execution_count": 319,
   "metadata": {},
   "outputs": [
    {
     "data": {
      "text/plain": [
       "Index(['Id_juego', 'Nombre', 'Desarrollador', 'Año_lanzamiento', 'Género'], dtype='object')"
      ]
     },
     "execution_count": 319,
     "metadata": {},
     "output_type": "execute_result"
    }
   ],
   "source": [
    "#cambiamos el nombre de la columna genres a Género\n",
    "dfjuegos.rename(columns={'genres':'Género'},inplace=True)\n",
    "dfjuegos.columns"
   ]
  },
  {
   "cell_type": "code",
   "execution_count": 673,
   "metadata": {},
   "outputs": [],
   "source": [
    "dfjuegos.to_csv('Juegos_steam.csv')"
   ]
  },
  {
   "cell_type": "markdown",
   "metadata": {},
   "source": [
    "# ETl de dataset users items"
   ]
  },
  {
   "cell_type": "code",
   "execution_count": 264,
   "metadata": {},
   "outputs": [],
   "source": [
    "#abirmos el rchivo de items en un dataframe\n",
    "with open('australian_users_items.json',encoding='MacRoman') as archivo_json:\n",
    "    contenido_json = archivo_json.readlines()\n",
    "lisitems=[eval(line.strip())for line in contenido_json]\n",
    "dfitems=pd.DataFrame(lisitems)\n"
   ]
  },
  {
   "cell_type": "code",
   "execution_count": 270,
   "metadata": {},
   "outputs": [],
   "source": [
    "# Se desanida la columna de items y se pasa a un Dataframe el cual contiene la informacion de cada juego jugado por el usuario, como horas jugadas y el id del juego\n",
    "lista_items=[] \n",
    "lista_items2=[]\n",
    "for a in dfitems['items']:\n",
    "    lista_items.append(ast.literal_eval(str(a)))\n",
    "for a in range(len(lista_items)):\n",
    "    for b in range(len(lista_items[a])):\n",
    "        lista_items[a][b]['user_id']=lisitems[a]['user_id']\n",
    "        lista_items2.append(lista_items[a][b])\n",
    "        "
   ]
  },
  {
   "cell_type": "code",
   "execution_count": 273,
   "metadata": {},
   "outputs": [
    {
     "data": {
      "text/html": [
       "<div>\n",
       "<style scoped>\n",
       "    .dataframe tbody tr th:only-of-type {\n",
       "        vertical-align: middle;\n",
       "    }\n",
       "\n",
       "    .dataframe tbody tr th {\n",
       "        vertical-align: top;\n",
       "    }\n",
       "\n",
       "    .dataframe thead th {\n",
       "        text-align: right;\n",
       "    }\n",
       "</style>\n",
       "<table border=\"1\" class=\"dataframe\">\n",
       "  <thead>\n",
       "    <tr style=\"text-align: right;\">\n",
       "      <th></th>\n",
       "      <th>item_id</th>\n",
       "      <th>item_name</th>\n",
       "      <th>playtime_forever</th>\n",
       "      <th>playtime_2weeks</th>\n",
       "      <th>user_id</th>\n",
       "    </tr>\n",
       "  </thead>\n",
       "  <tbody>\n",
       "    <tr>\n",
       "      <th>0</th>\n",
       "      <td>10</td>\n",
       "      <td>Counter-Strike</td>\n",
       "      <td>6</td>\n",
       "      <td>0</td>\n",
       "      <td>76561197970982479</td>\n",
       "    </tr>\n",
       "    <tr>\n",
       "      <th>1</th>\n",
       "      <td>20</td>\n",
       "      <td>Team Fortress Classic</td>\n",
       "      <td>0</td>\n",
       "      <td>0</td>\n",
       "      <td>76561197970982479</td>\n",
       "    </tr>\n",
       "    <tr>\n",
       "      <th>2</th>\n",
       "      <td>30</td>\n",
       "      <td>Day of Defeat</td>\n",
       "      <td>7</td>\n",
       "      <td>0</td>\n",
       "      <td>76561197970982479</td>\n",
       "    </tr>\n",
       "    <tr>\n",
       "      <th>3</th>\n",
       "      <td>40</td>\n",
       "      <td>Deathmatch Classic</td>\n",
       "      <td>0</td>\n",
       "      <td>0</td>\n",
       "      <td>76561197970982479</td>\n",
       "    </tr>\n",
       "    <tr>\n",
       "      <th>4</th>\n",
       "      <td>50</td>\n",
       "      <td>Half-Life: Opposing Force</td>\n",
       "      <td>0</td>\n",
       "      <td>0</td>\n",
       "      <td>76561197970982479</td>\n",
       "    </tr>\n",
       "  </tbody>\n",
       "</table>\n",
       "</div>"
      ],
      "text/plain": [
       "  item_id                  item_name  playtime_forever  playtime_2weeks  \\\n",
       "0      10             Counter-Strike                 6                0   \n",
       "1      20      Team Fortress Classic                 0                0   \n",
       "2      30              Day of Defeat                 7                0   \n",
       "3      40         Deathmatch Classic                 0                0   \n",
       "4      50  Half-Life: Opposing Force                 0                0   \n",
       "\n",
       "             user_id  \n",
       "0  76561197970982479  \n",
       "1  76561197970982479  \n",
       "2  76561197970982479  \n",
       "3  76561197970982479  \n",
       "4  76561197970982479  "
      ]
     },
     "execution_count": 273,
     "metadata": {},
     "output_type": "execute_result"
    }
   ],
   "source": [
    "dfitems=pd.DataFrame(lista_items2)\n",
    "dfitems.head()"
   ]
  },
  {
   "cell_type": "code",
   "execution_count": 274,
   "metadata": {},
   "outputs": [
    {
     "data": {
      "text/plain": [
       "59104"
      ]
     },
     "execution_count": 274,
     "metadata": {},
     "output_type": "execute_result"
    }
   ],
   "source": [
    "#observamos que hay filas duplicadas en los items\n",
    "dfitems.duplicated().sum()"
   ]
  },
  {
   "cell_type": "code",
   "execution_count": 275,
   "metadata": {},
   "outputs": [
    {
     "data": {
      "text/plain": [
       "0"
      ]
     },
     "execution_count": 275,
     "metadata": {},
     "output_type": "execute_result"
    }
   ],
   "source": [
    "#se procede a eliminar duplicados del dataframe de items y verificamos que se eliminaron\n",
    "dfitems.drop_duplicates(inplace=True,ignore_index=True)\n",
    "dfitems.duplicated().sum()"
   ]
  },
  {
   "cell_type": "code",
   "execution_count": 286,
   "metadata": {},
   "outputs": [],
   "source": [
    "#cambiamos el tipo de dato a int de la columna de ids del item\n",
    "dfitems.item_id=dfitems.item_id.astype(int)"
   ]
  },
  {
   "cell_type": "code",
   "execution_count": 287,
   "metadata": {},
   "outputs": [
    {
     "name": "stdout",
     "output_type": "stream",
     "text": [
      "<class 'pandas.core.frame.DataFrame'>\n",
      "RangeIndex: 5094105 entries, 0 to 5094104\n",
      "Data columns (total 5 columns):\n",
      " #   Column            Dtype \n",
      "---  ------            ----- \n",
      " 0   item_id           int32 \n",
      " 1   item_name         object\n",
      " 2   playtime_forever  int64 \n",
      " 3   playtime_2weeks   int64 \n",
      " 4   user_id           object\n",
      "dtypes: int32(1), int64(2), object(2)\n",
      "memory usage: 174.9+ MB\n"
     ]
    }
   ],
   "source": [
    "dfitems.info()"
   ]
  },
  {
   "cell_type": "code",
   "execution_count": 263,
   "metadata": {},
   "outputs": [
    {
     "data": {
      "text/plain": [
       "item_id             0\n",
       "item_name           0\n",
       "playtime_forever    0\n",
       "playtime_2weeks     0\n",
       "user_id             0\n",
       "dtype: int64"
      ]
     },
     "execution_count": 263,
     "metadata": {},
     "output_type": "execute_result"
    }
   ],
   "source": [
    "dfitems.isnull().sum()"
   ]
  },
  {
   "cell_type": "code",
   "execution_count": 321,
   "metadata": {},
   "outputs": [
    {
     "data": {
      "text/plain": [
       "Index(['Id_juego', 'Nombre_juego', 'Horas_jugadas', 'playtime_2weeks',\n",
       "       'Id_usuario'],\n",
       "      dtype='object')"
      ]
     },
     "execution_count": 321,
     "metadata": {},
     "output_type": "execute_result"
    }
   ],
   "source": [
    "#cambiamos nombres de las columnas \n",
    "columnas_items={'item_id':'Id_juego','item_name':'Nombre_juego','playtime_forever':'Horas_jugadas','user_id':'Id_usuario'}\n",
    "dfitems.rename(columns=columnas_items,inplace=True)\n",
    "dfitems.columns"
   ]
  },
  {
   "cell_type": "code",
   "execution_count": 262,
   "metadata": {},
   "outputs": [
    {
     "data": {
      "text/html": [
       "<div>\n",
       "<style scoped>\n",
       "    .dataframe tbody tr th:only-of-type {\n",
       "        vertical-align: middle;\n",
       "    }\n",
       "\n",
       "    .dataframe tbody tr th {\n",
       "        vertical-align: top;\n",
       "    }\n",
       "\n",
       "    .dataframe thead th {\n",
       "        text-align: right;\n",
       "    }\n",
       "</style>\n",
       "<table border=\"1\" class=\"dataframe\">\n",
       "  <thead>\n",
       "    <tr style=\"text-align: right;\">\n",
       "      <th></th>\n",
       "      <th>item_id</th>\n",
       "      <th>item_name</th>\n",
       "      <th>playtime_forever</th>\n",
       "      <th>playtime_2weeks</th>\n",
       "      <th>user_id</th>\n",
       "    </tr>\n",
       "  </thead>\n",
       "  <tbody>\n",
       "    <tr>\n",
       "      <th>0</th>\n",
       "      <td>10</td>\n",
       "      <td>Counter-Strike</td>\n",
       "      <td>6</td>\n",
       "      <td>0</td>\n",
       "      <td>76561197970982479</td>\n",
       "    </tr>\n",
       "    <tr>\n",
       "      <th>1</th>\n",
       "      <td>20</td>\n",
       "      <td>Team Fortress Classic</td>\n",
       "      <td>0</td>\n",
       "      <td>0</td>\n",
       "      <td>76561197970982479</td>\n",
       "    </tr>\n",
       "    <tr>\n",
       "      <th>2</th>\n",
       "      <td>30</td>\n",
       "      <td>Day of Defeat</td>\n",
       "      <td>7</td>\n",
       "      <td>0</td>\n",
       "      <td>76561197970982479</td>\n",
       "    </tr>\n",
       "    <tr>\n",
       "      <th>3</th>\n",
       "      <td>40</td>\n",
       "      <td>Deathmatch Classic</td>\n",
       "      <td>0</td>\n",
       "      <td>0</td>\n",
       "      <td>76561197970982479</td>\n",
       "    </tr>\n",
       "    <tr>\n",
       "      <th>4</th>\n",
       "      <td>50</td>\n",
       "      <td>Half-Life: Opposing Force</td>\n",
       "      <td>0</td>\n",
       "      <td>0</td>\n",
       "      <td>76561197970982479</td>\n",
       "    </tr>\n",
       "  </tbody>\n",
       "</table>\n",
       "</div>"
      ],
      "text/plain": [
       "   item_id                  item_name  playtime_forever  playtime_2weeks  \\\n",
       "0       10             Counter-Strike                 6                0   \n",
       "1       20      Team Fortress Classic                 0                0   \n",
       "2       30              Day of Defeat                 7                0   \n",
       "3       40         Deathmatch Classic                 0                0   \n",
       "4       50  Half-Life: Opposing Force                 0                0   \n",
       "\n",
       "             user_id  \n",
       "0  76561197970982479  \n",
       "1  76561197970982479  \n",
       "2  76561197970982479  \n",
       "3  76561197970982479  \n",
       "4  76561197970982479  "
      ]
     },
     "execution_count": 262,
     "metadata": {},
     "output_type": "execute_result"
    }
   ],
   "source": [
    "dfitems=pd.read_csv('items_por_usuario.csv')\n",
    "dfitems.head()"
   ]
  },
  {
   "cell_type": "code",
   "execution_count": 674,
   "metadata": {},
   "outputs": [],
   "source": [
    "# Se guarda en un csv el dataframe con los items desanidados y el id de usuario\n",
    "dfitems.to_csv('items_por_usuario.csv',index=False)"
   ]
  },
  {
   "cell_type": "markdown",
   "metadata": {},
   "source": [
    "# ETL reviews"
   ]
  },
  {
   "cell_type": "code",
   "execution_count": 640,
   "metadata": {},
   "outputs": [
    {
     "data": {
      "text/html": [
       "<div>\n",
       "<style scoped>\n",
       "    .dataframe tbody tr th:only-of-type {\n",
       "        vertical-align: middle;\n",
       "    }\n",
       "\n",
       "    .dataframe tbody tr th {\n",
       "        vertical-align: top;\n",
       "    }\n",
       "\n",
       "    .dataframe thead th {\n",
       "        text-align: right;\n",
       "    }\n",
       "</style>\n",
       "<table border=\"1\" class=\"dataframe\">\n",
       "  <thead>\n",
       "    <tr style=\"text-align: right;\">\n",
       "      <th></th>\n",
       "      <th>user_id</th>\n",
       "      <th>user_url</th>\n",
       "      <th>reviews</th>\n",
       "    </tr>\n",
       "  </thead>\n",
       "  <tbody>\n",
       "    <tr>\n",
       "      <th>0</th>\n",
       "      <td>76561197970982479</td>\n",
       "      <td>http://steamcommunity.com/profiles/76561197970...</td>\n",
       "      <td>[{'funny': '', 'posted': 'Posted November 5, 2...</td>\n",
       "    </tr>\n",
       "    <tr>\n",
       "      <th>1</th>\n",
       "      <td>js41637</td>\n",
       "      <td>http://steamcommunity.com/id/js41637</td>\n",
       "      <td>[{'funny': '', 'posted': 'Posted June 24, 2014...</td>\n",
       "    </tr>\n",
       "    <tr>\n",
       "      <th>2</th>\n",
       "      <td>evcentric</td>\n",
       "      <td>http://steamcommunity.com/id/evcentric</td>\n",
       "      <td>[{'funny': '', 'posted': 'Posted February 3.',...</td>\n",
       "    </tr>\n",
       "    <tr>\n",
       "      <th>3</th>\n",
       "      <td>doctr</td>\n",
       "      <td>http://steamcommunity.com/id/doctr</td>\n",
       "      <td>[{'funny': '', 'posted': 'Posted October 14, 2...</td>\n",
       "    </tr>\n",
       "    <tr>\n",
       "      <th>4</th>\n",
       "      <td>maplemage</td>\n",
       "      <td>http://steamcommunity.com/id/maplemage</td>\n",
       "      <td>[{'funny': '3 people found this review funny',...</td>\n",
       "    </tr>\n",
       "  </tbody>\n",
       "</table>\n",
       "</div>"
      ],
      "text/plain": [
       "             user_id                                           user_url  \\\n",
       "0  76561197970982479  http://steamcommunity.com/profiles/76561197970...   \n",
       "1            js41637               http://steamcommunity.com/id/js41637   \n",
       "2          evcentric             http://steamcommunity.com/id/evcentric   \n",
       "3              doctr                 http://steamcommunity.com/id/doctr   \n",
       "4          maplemage             http://steamcommunity.com/id/maplemage   \n",
       "\n",
       "                                             reviews  \n",
       "0  [{'funny': '', 'posted': 'Posted November 5, 2...  \n",
       "1  [{'funny': '', 'posted': 'Posted June 24, 2014...  \n",
       "2  [{'funny': '', 'posted': 'Posted February 3.',...  \n",
       "3  [{'funny': '', 'posted': 'Posted October 14, 2...  \n",
       "4  [{'funny': '3 people found this review funny',...  "
      ]
     },
     "execution_count": 640,
     "metadata": {},
     "output_type": "execute_result"
    }
   ],
   "source": [
    "# abrimos el archivo reviews\n",
    "with open('australian_user_reviews.json', encoding='utf-8') as archivo_json:\n",
    "    contenido_json = archivo_json.readlines()\n",
    "lisreviews=list(map(ast.literal_eval,contenido_json))\n",
    "dfreviews=pd.DataFrame(lisreviews)\n",
    "dfreviews.head()"
   ]
  },
  {
   "cell_type": "code",
   "execution_count": 641,
   "metadata": {},
   "outputs": [
    {
     "data": {
      "text/html": [
       "<div>\n",
       "<style scoped>\n",
       "    .dataframe tbody tr th:only-of-type {\n",
       "        vertical-align: middle;\n",
       "    }\n",
       "\n",
       "    .dataframe tbody tr th {\n",
       "        vertical-align: top;\n",
       "    }\n",
       "\n",
       "    .dataframe thead th {\n",
       "        text-align: right;\n",
       "    }\n",
       "</style>\n",
       "<table border=\"1\" class=\"dataframe\">\n",
       "  <thead>\n",
       "    <tr style=\"text-align: right;\">\n",
       "      <th></th>\n",
       "      <th>funny</th>\n",
       "      <th>posted</th>\n",
       "      <th>last_edited</th>\n",
       "      <th>item_id</th>\n",
       "      <th>helpful</th>\n",
       "      <th>recommend</th>\n",
       "      <th>review</th>\n",
       "      <th>user_id</th>\n",
       "    </tr>\n",
       "  </thead>\n",
       "  <tbody>\n",
       "    <tr>\n",
       "      <th>0</th>\n",
       "      <td></td>\n",
       "      <td>Posted November 5, 2011.</td>\n",
       "      <td></td>\n",
       "      <td>1250</td>\n",
       "      <td>No ratings yet</td>\n",
       "      <td>True</td>\n",
       "      <td>Simple yet with great replayability. In my opi...</td>\n",
       "      <td>76561197970982479</td>\n",
       "    </tr>\n",
       "    <tr>\n",
       "      <th>1</th>\n",
       "      <td></td>\n",
       "      <td>Posted July 15, 2011.</td>\n",
       "      <td></td>\n",
       "      <td>22200</td>\n",
       "      <td>No ratings yet</td>\n",
       "      <td>True</td>\n",
       "      <td>It's unique and worth a playthrough.</td>\n",
       "      <td>76561197970982479</td>\n",
       "    </tr>\n",
       "    <tr>\n",
       "      <th>2</th>\n",
       "      <td></td>\n",
       "      <td>Posted April 21, 2011.</td>\n",
       "      <td></td>\n",
       "      <td>43110</td>\n",
       "      <td>No ratings yet</td>\n",
       "      <td>True</td>\n",
       "      <td>Great atmosphere. The gunplay can be a bit chu...</td>\n",
       "      <td>76561197970982479</td>\n",
       "    </tr>\n",
       "    <tr>\n",
       "      <th>3</th>\n",
       "      <td></td>\n",
       "      <td>Posted June 24, 2014.</td>\n",
       "      <td></td>\n",
       "      <td>251610</td>\n",
       "      <td>15 of 20 people (75%) found this review helpful</td>\n",
       "      <td>True</td>\n",
       "      <td>I know what you think when you see this title ...</td>\n",
       "      <td>js41637</td>\n",
       "    </tr>\n",
       "    <tr>\n",
       "      <th>4</th>\n",
       "      <td></td>\n",
       "      <td>Posted September 8, 2013.</td>\n",
       "      <td></td>\n",
       "      <td>227300</td>\n",
       "      <td>0 of 1 people (0%) found this review helpful</td>\n",
       "      <td>True</td>\n",
       "      <td>For a simple (it's actually not all that simpl...</td>\n",
       "      <td>js41637</td>\n",
       "    </tr>\n",
       "  </tbody>\n",
       "</table>\n",
       "</div>"
      ],
      "text/plain": [
       "  funny                     posted last_edited item_id  \\\n",
       "0         Posted November 5, 2011.                1250   \n",
       "1            Posted July 15, 2011.               22200   \n",
       "2           Posted April 21, 2011.               43110   \n",
       "3            Posted June 24, 2014.              251610   \n",
       "4        Posted September 8, 2013.              227300   \n",
       "\n",
       "                                           helpful  recommend  \\\n",
       "0                                   No ratings yet       True   \n",
       "1                                   No ratings yet       True   \n",
       "2                                   No ratings yet       True   \n",
       "3  15 of 20 people (75%) found this review helpful       True   \n",
       "4     0 of 1 people (0%) found this review helpful       True   \n",
       "\n",
       "                                              review            user_id  \n",
       "0  Simple yet with great replayability. In my opi...  76561197970982479  \n",
       "1               It's unique and worth a playthrough.  76561197970982479  \n",
       "2  Great atmosphere. The gunplay can be a bit chu...  76561197970982479  \n",
       "3  I know what you think when you see this title ...            js41637  \n",
       "4  For a simple (it's actually not all that simpl...            js41637  "
      ]
     },
     "execution_count": 641,
     "metadata": {},
     "output_type": "execute_result"
    }
   ],
   "source": [
    "# Se desanida la columna de items y se pasa a un Dataframe el cual contiene la informacion de cada juego jugado por el usuario, como horas jugadas y el id del juego\n",
    "lista_reviews=[] \n",
    "lista_reviews2=[]\n",
    "for a in dfreviews['reviews']:\n",
    "    lista_reviews.append(ast.literal_eval(str(a)))\n",
    "for a in range(len(lista_reviews)):\n",
    "    for b in range(len(lista_reviews[a])):\n",
    "        lista_reviews[a][b]['user_id']=lisreviews[a]['user_id']\n",
    "        lista_reviews2.append(lista_reviews[a][b])\n",
    "dfreviews=pd.DataFrame(lista_reviews2)\n",
    "dfreviews.head()"
   ]
  },
  {
   "cell_type": "code",
   "execution_count": 642,
   "metadata": {},
   "outputs": [
    {
     "data": {
      "text/plain": [
       "array(['', '3 people found this review funny',\n",
       "       '1 person found this review funny',\n",
       "       '2 people found this review funny',\n",
       "       '5 people found this review funny',\n",
       "       '17 people found this review funny',\n",
       "       '524 people found this review funny',\n",
       "       '4 people found this review funny',\n",
       "       '12 people found this review funny',\n",
       "       '6 people found this review funny',\n",
       "       '7 people found this review funny',\n",
       "       '103 people found this review funny',\n",
       "       '16 people found this review funny',\n",
       "       '34 people found this review funny',\n",
       "       '9 people found this review funny',\n",
       "       '45 people found this review funny',\n",
       "       '11 people found this review funny',\n",
       "       '97 people found this review funny',\n",
       "       '207 people found this review funny',\n",
       "       '718 people found this review funny',\n",
       "       '23 people found this review funny',\n",
       "       '100 people found this review funny',\n",
       "       '8 people found this review funny',\n",
       "       '19 people found this review funny',\n",
       "       '32 people found this review funny',\n",
       "       '118 people found this review funny',\n",
       "       '10 people found this review funny',\n",
       "       '44 people found this review funny',\n",
       "       '20 people found this review funny',\n",
       "       '36 people found this review funny',\n",
       "       '15 people found this review funny',\n",
       "       '131 people found this review funny',\n",
       "       '279 people found this review funny',\n",
       "       '122 people found this review funny',\n",
       "       '269 people found this review funny',\n",
       "       '296 people found this review funny',\n",
       "       '46 people found this review funny',\n",
       "       '42 people found this review funny',\n",
       "       '80 people found this review funny',\n",
       "       '28 people found this review funny',\n",
       "       '417 people found this review funny',\n",
       "       '92 people found this review funny',\n",
       "       '261 people found this review funny',\n",
       "       '54 people found this review funny',\n",
       "       '13 people found this review funny',\n",
       "       '14 people found this review funny',\n",
       "       '133 people found this review funny',\n",
       "       '115 people found this review funny',\n",
       "       '72 people found this review funny',\n",
       "       '260 people found this review funny',\n",
       "       '405 people found this review funny',\n",
       "       '47 people found this review funny',\n",
       "       '1,130 people found this review funny',\n",
       "       '856 people found this review funny',\n",
       "       '256 people found this review funny',\n",
       "       '48 people found this review funny',\n",
       "       '71 people found this review funny',\n",
       "       '30 people found this review funny',\n",
       "       '89 people found this review funny',\n",
       "       '75 people found this review funny',\n",
       "       '518 people found this review funny',\n",
       "       '719 people found this review funny',\n",
       "       '82 people found this review funny',\n",
       "       '49 people found this review funny',\n",
       "       '167 people found this review funny',\n",
       "       '77 people found this review funny',\n",
       "       '60 people found this review funny',\n",
       "       '26 people found this review funny',\n",
       "       '675 people found this review funny',\n",
       "       '22 people found this review funny',\n",
       "       '99 people found this review funny',\n",
       "       '120 people found this review funny',\n",
       "       '211 people found this review funny',\n",
       "       '27 people found this review funny',\n",
       "       '21 people found this review funny',\n",
       "       '228 people found this review funny',\n",
       "       '25 people found this review funny',\n",
       "       '18 people found this review funny',\n",
       "       '76 people found this review funny',\n",
       "       '56 people found this review funny',\n",
       "       '85 people found this review funny',\n",
       "       '40 people found this review funny',\n",
       "       '203 people found this review funny',\n",
       "       '90 people found this review funny',\n",
       "       '480 people found this review funny',\n",
       "       '39 people found this review funny',\n",
       "       '759 people found this review funny',\n",
       "       '53 people found this review funny',\n",
       "       '38 people found this review funny',\n",
       "       '52 people found this review funny',\n",
       "       '70 people found this review funny',\n",
       "       '429 people found this review funny',\n",
       "       '69 people found this review funny',\n",
       "       '24 people found this review funny',\n",
       "       '41 people found this review funny',\n",
       "       '194 people found this review funny',\n",
       "       '124 people found this review funny',\n",
       "       '450 people found this review funny',\n",
       "       '607 people found this review funny',\n",
       "       '152 people found this review funny',\n",
       "       '946 people found this review funny',\n",
       "       '50 people found this review funny',\n",
       "       '142 people found this review funny',\n",
       "       '181 people found this review funny',\n",
       "       '171 people found this review funny',\n",
       "       '105 people found this review funny',\n",
       "       '267 people found this review funny',\n",
       "       '58 people found this review funny',\n",
       "       '139 people found this review funny',\n",
       "       '161 people found this review funny',\n",
       "       '1,284 people found this review funny',\n",
       "       '127 people found this review funny',\n",
       "       '155 people found this review funny',\n",
       "       '191 people found this review funny',\n",
       "       '51 people found this review funny',\n",
       "       '461 people found this review funny',\n",
       "       '94 people found this review funny',\n",
       "       '841 people found this review funny',\n",
       "       '2,598 people found this review funny',\n",
       "       '129 people found this review funny',\n",
       "       '66 people found this review funny',\n",
       "       '95 people found this review funny',\n",
       "       '57 people found this review funny',\n",
       "       '180 people found this review funny',\n",
       "       '502 people found this review funny',\n",
       "       '215 people found this review funny',\n",
       "       '830 people found this review funny',\n",
       "       '327 people found this review funny',\n",
       "       '185 people found this review funny',\n",
       "       '255 people found this review funny',\n",
       "       '469 people found this review funny',\n",
       "       '1,002 people found this review funny',\n",
       "       '65 people found this review funny',\n",
       "       '111 people found this review funny',\n",
       "       '198 people found this review funny',\n",
       "       '31 people found this review funny',\n",
       "       '214 people found this review funny',\n",
       "       '116 people found this review funny',\n",
       "       '534 people found this review funny',\n",
       "       '33 people found this review funny',\n",
       "       '354 people found this review funny',\n",
       "       '128 people found this review funny',\n",
       "       '396 people found this review funny',\n",
       "       '59 people found this review funny',\n",
       "       '67 people found this review funny',\n",
       "       '162 people found this review funny',\n",
       "       '37 people found this review funny',\n",
       "       '78 people found this review funny',\n",
       "       '284 people found this review funny',\n",
       "       '1,954 people found this review funny',\n",
       "       '276 people found this review funny',\n",
       "       '35 people found this review funny',\n",
       "       '29 people found this review funny',\n",
       "       '651 people found this review funny',\n",
       "       '83 people found this review funny',\n",
       "       '104 people found this review funny',\n",
       "       '1,100 people found this review funny',\n",
       "       '150 people found this review funny',\n",
       "       '126 people found this review funny',\n",
       "       '956 people found this review funny',\n",
       "       '264 people found this review funny',\n",
       "       '486 people found this review funny',\n",
       "       '246 people found this review funny',\n",
       "       '43 people found this review funny',\n",
       "       '326 people found this review funny',\n",
       "       '210 people found this review funny',\n",
       "       '144 people found this review funny',\n",
       "       '425 people found this review funny',\n",
       "       '68 people found this review funny',\n",
       "       '491 people found this review funny',\n",
       "       '186 people found this review funny',\n",
       "       '88 people found this review funny',\n",
       "       '388 people found this review funny',\n",
       "       '196 people found this review funny',\n",
       "       '135 people found this review funny',\n",
       "       '151 people found this review funny',\n",
       "       '2,447 people found this review funny',\n",
       "       '178 people found this review funny',\n",
       "       '876 people found this review funny',\n",
       "       '852 people found this review funny',\n",
       "       '233 people found this review funny',\n",
       "       '680 people found this review funny',\n",
       "       '172 people found this review funny',\n",
       "       '182 people found this review funny',\n",
       "       '86 people found this review funny',\n",
       "       '825 people found this review funny'], dtype=object)"
      ]
     },
     "execution_count": 642,
     "metadata": {},
     "output_type": "execute_result"
    }
   ],
   "source": [
    "dfreviews.funny.unique()"
   ]
  },
  {
   "cell_type": "code",
   "execution_count": 643,
   "metadata": {},
   "outputs": [
    {
     "data": {
      "text/html": [
       "<div>\n",
       "<style scoped>\n",
       "    .dataframe tbody tr th:only-of-type {\n",
       "        vertical-align: middle;\n",
       "    }\n",
       "\n",
       "    .dataframe tbody tr th {\n",
       "        vertical-align: top;\n",
       "    }\n",
       "\n",
       "    .dataframe thead th {\n",
       "        text-align: right;\n",
       "    }\n",
       "</style>\n",
       "<table border=\"1\" class=\"dataframe\">\n",
       "  <thead>\n",
       "    <tr style=\"text-align: right;\">\n",
       "      <th></th>\n",
       "      <th>posted</th>\n",
       "      <th>item_id</th>\n",
       "      <th>recommend</th>\n",
       "      <th>review</th>\n",
       "      <th>user_id</th>\n",
       "    </tr>\n",
       "  </thead>\n",
       "  <tbody>\n",
       "    <tr>\n",
       "      <th>0</th>\n",
       "      <td>Posted November 5, 2011.</td>\n",
       "      <td>1250</td>\n",
       "      <td>True</td>\n",
       "      <td>Simple yet with great replayability. In my opi...</td>\n",
       "      <td>76561197970982479</td>\n",
       "    </tr>\n",
       "    <tr>\n",
       "      <th>1</th>\n",
       "      <td>Posted July 15, 2011.</td>\n",
       "      <td>22200</td>\n",
       "      <td>True</td>\n",
       "      <td>It's unique and worth a playthrough.</td>\n",
       "      <td>76561197970982479</td>\n",
       "    </tr>\n",
       "    <tr>\n",
       "      <th>2</th>\n",
       "      <td>Posted April 21, 2011.</td>\n",
       "      <td>43110</td>\n",
       "      <td>True</td>\n",
       "      <td>Great atmosphere. The gunplay can be a bit chu...</td>\n",
       "      <td>76561197970982479</td>\n",
       "    </tr>\n",
       "    <tr>\n",
       "      <th>3</th>\n",
       "      <td>Posted June 24, 2014.</td>\n",
       "      <td>251610</td>\n",
       "      <td>True</td>\n",
       "      <td>I know what you think when you see this title ...</td>\n",
       "      <td>js41637</td>\n",
       "    </tr>\n",
       "    <tr>\n",
       "      <th>4</th>\n",
       "      <td>Posted September 8, 2013.</td>\n",
       "      <td>227300</td>\n",
       "      <td>True</td>\n",
       "      <td>For a simple (it's actually not all that simpl...</td>\n",
       "      <td>js41637</td>\n",
       "    </tr>\n",
       "  </tbody>\n",
       "</table>\n",
       "</div>"
      ],
      "text/plain": [
       "                      posted item_id  recommend  \\\n",
       "0   Posted November 5, 2011.    1250       True   \n",
       "1      Posted July 15, 2011.   22200       True   \n",
       "2     Posted April 21, 2011.   43110       True   \n",
       "3      Posted June 24, 2014.  251610       True   \n",
       "4  Posted September 8, 2013.  227300       True   \n",
       "\n",
       "                                              review            user_id  \n",
       "0  Simple yet with great replayability. In my opi...  76561197970982479  \n",
       "1               It's unique and worth a playthrough.  76561197970982479  \n",
       "2  Great atmosphere. The gunplay can be a bit chu...  76561197970982479  \n",
       "3  I know what you think when you see this title ...            js41637  \n",
       "4  For a simple (it's actually not all that simpl...            js41637  "
      ]
     },
     "execution_count": 643,
     "metadata": {},
     "output_type": "execute_result"
    }
   ],
   "source": [
    "# quitamos las columnas que no vamos a utiizar para las funciones requeridas\n",
    "dfreviews.drop(columns=['funny','last_edited','helpful'],inplace=True)\n",
    "dfreviews.head()"
   ]
  },
  {
   "cell_type": "code",
   "execution_count": 644,
   "metadata": {},
   "outputs": [
    {
     "name": "stdout",
     "output_type": "stream",
     "text": [
      "filas duplicadas:  874\n",
      "filas duplicadas despues de hacer drop:  0\n"
     ]
    }
   ],
   "source": [
    "#corroboramos si hay filas duplicadas y eliminamos\n",
    "print('filas duplicadas: ',dfreviews.duplicated().sum())\n",
    "dfreviews.drop_duplicates(inplace=True,ignore_index=True)\n",
    "print('filas duplicadas despues de hacer drop: ',dfreviews.duplicated().sum())"
   ]
  },
  {
   "cell_type": "code",
   "execution_count": 645,
   "metadata": {},
   "outputs": [
    {
     "data": {
      "text/plain": [
       "posted       0\n",
       "item_id      0\n",
       "recommend    0\n",
       "review       0\n",
       "user_id      0\n",
       "dtype: int64"
      ]
     },
     "execution_count": 645,
     "metadata": {},
     "output_type": "execute_result"
    }
   ],
   "source": [
    "#buscamos valores nulos del dataframe y corroboramos que no existen\n",
    "dfreviews.isnull().sum()"
   ]
  },
  {
   "cell_type": "code",
   "execution_count": 646,
   "metadata": {},
   "outputs": [],
   "source": [
    "#quitamos la palabra posted, las comas y puntos\n",
    "dfreviews.posted=dfreviews.posted.str.removeprefix('Posted ').str.replace(',','').str.replace('.','')"
   ]
  },
  {
   "cell_type": "code",
   "execution_count": 647,
   "metadata": {},
   "outputs": [
    {
     "data": {
      "text/html": [
       "<div>\n",
       "<style scoped>\n",
       "    .dataframe tbody tr th:only-of-type {\n",
       "        vertical-align: middle;\n",
       "    }\n",
       "\n",
       "    .dataframe tbody tr th {\n",
       "        vertical-align: top;\n",
       "    }\n",
       "\n",
       "    .dataframe thead th {\n",
       "        text-align: right;\n",
       "    }\n",
       "</style>\n",
       "<table border=\"1\" class=\"dataframe\">\n",
       "  <thead>\n",
       "    <tr style=\"text-align: right;\">\n",
       "      <th></th>\n",
       "      <th>posted</th>\n",
       "      <th>item_id</th>\n",
       "      <th>recommend</th>\n",
       "      <th>review</th>\n",
       "      <th>user_id</th>\n",
       "      <th>Año_review</th>\n",
       "    </tr>\n",
       "  </thead>\n",
       "  <tbody>\n",
       "    <tr>\n",
       "      <th>0</th>\n",
       "      <td>November 5 2011</td>\n",
       "      <td>1250</td>\n",
       "      <td>True</td>\n",
       "      <td>Simple yet with great replayability. In my opi...</td>\n",
       "      <td>76561197970982479</td>\n",
       "      <td>2011</td>\n",
       "    </tr>\n",
       "    <tr>\n",
       "      <th>1</th>\n",
       "      <td>July 15 2011</td>\n",
       "      <td>22200</td>\n",
       "      <td>True</td>\n",
       "      <td>It's unique and worth a playthrough.</td>\n",
       "      <td>76561197970982479</td>\n",
       "      <td>2011</td>\n",
       "    </tr>\n",
       "    <tr>\n",
       "      <th>2</th>\n",
       "      <td>April 21 2011</td>\n",
       "      <td>43110</td>\n",
       "      <td>True</td>\n",
       "      <td>Great atmosphere. The gunplay can be a bit chu...</td>\n",
       "      <td>76561197970982479</td>\n",
       "      <td>2011</td>\n",
       "    </tr>\n",
       "    <tr>\n",
       "      <th>3</th>\n",
       "      <td>June 24 2014</td>\n",
       "      <td>251610</td>\n",
       "      <td>True</td>\n",
       "      <td>I know what you think when you see this title ...</td>\n",
       "      <td>js41637</td>\n",
       "      <td>2014</td>\n",
       "    </tr>\n",
       "    <tr>\n",
       "      <th>4</th>\n",
       "      <td>September 8 2013</td>\n",
       "      <td>227300</td>\n",
       "      <td>True</td>\n",
       "      <td>For a simple (it's actually not all that simpl...</td>\n",
       "      <td>js41637</td>\n",
       "      <td>2013</td>\n",
       "    </tr>\n",
       "  </tbody>\n",
       "</table>\n",
       "</div>"
      ],
      "text/plain": [
       "             posted item_id  recommend  \\\n",
       "0   November 5 2011    1250       True   \n",
       "1      July 15 2011   22200       True   \n",
       "2     April 21 2011   43110       True   \n",
       "3      June 24 2014  251610       True   \n",
       "4  September 8 2013  227300       True   \n",
       "\n",
       "                                              review            user_id  \\\n",
       "0  Simple yet with great replayability. In my opi...  76561197970982479   \n",
       "1               It's unique and worth a playthrough.  76561197970982479   \n",
       "2  Great atmosphere. The gunplay can be a bit chu...  76561197970982479   \n",
       "3  I know what you think when you see this title ...            js41637   \n",
       "4  For a simple (it's actually not all that simpl...            js41637   \n",
       "\n",
       "  Año_review  \n",
       "0       2011  \n",
       "1       2011  \n",
       "2       2011  \n",
       "3       2014  \n",
       "4       2013  "
      ]
     },
     "execution_count": 647,
     "metadata": {},
     "output_type": "execute_result"
    }
   ],
   "source": [
    "#sacamos el año de la columna posted\n",
    "dfreviews['Año_review']=dfreviews.posted.str.split(expand=True)[2]\n",
    "dfreviews.head()"
   ]
  },
  {
   "cell_type": "code",
   "execution_count": 648,
   "metadata": {},
   "outputs": [
    {
     "name": "stdout",
     "output_type": "stream",
     "text": [
      "valores nulos en la columna Año_review: 9933\n",
      "ulitmo año especificado en los datos: 2015\n",
      "valores nulos en la columna Año_review despues de cambiar nulos: 0\n",
      "ulitmo año especificado en los datos: 2016\n"
     ]
    }
   ],
   "source": [
    "# En la platfroma Steam, los reviews que no tienen año indican que fueron realizados en el año e curso\n",
    "#lo que nos indica que el año mas grande en la lista de años unicos es el 2015, el año en curso es el 2016\n",
    "print(f'valores nulos en la columna Año_review: {dfreviews.Año_review.isnull().sum()}')\n",
    "print(f'ulitmo año especificado en los datos: {dfreviews.Año_review.sort_values(ascending=False).unique()[0]}')\n",
    "#procedemos a relllenar los años faltantes con 2016\n",
    "dfreviews.Año_review.fillna('2016',inplace=True)\n",
    "#verificamos que ya se cambio el dato y que no hay nulos\n",
    "print(f'valores nulos en la columna Año_review despues de cambiar nulos: {dfreviews.Año_review.isnull().sum()}')\n",
    "print(f'ulitmo año especificado en los datos: {dfreviews.Año_review.sort_values(ascending=False).unique()[0]}')"
   ]
  },
  {
   "cell_type": "code",
   "execution_count": 658,
   "metadata": {},
   "outputs": [
    {
     "name": "stdout",
     "output_type": "stream",
     "text": [
      "reviews con emojis: 37235\n",
      "se verifian que la nueva columna no tenga emojis: reviews sin emojis=0\n"
     ]
    }
   ],
   "source": [
    "#checamos que las reviews contienen emojis, lo cual afectara al analisis de sentimientos\n",
    "print(f'reviews con emojis: {dfreviews.review.apply(lambda x: emoji.emoji_count(x)).sum()}')\n",
    "dfreviews['review_sin_emojis']=dfreviews.review.apply(lambda x: emoji.demojize(x))\n",
    "print(f'se verifian que la nueva columna no tenga emojis: reviews sin emojis={dfreviews.review_sin_emojis.apply(lambda x: emoji.emoji_count(x)).sum()}')"
   ]
  },
  {
   "cell_type": "code",
   "execution_count": 664,
   "metadata": {},
   "outputs": [
    {
     "data": {
      "text/html": [
       "<div>\n",
       "<style scoped>\n",
       "    .dataframe tbody tr th:only-of-type {\n",
       "        vertical-align: middle;\n",
       "    }\n",
       "\n",
       "    .dataframe tbody tr th {\n",
       "        vertical-align: top;\n",
       "    }\n",
       "\n",
       "    .dataframe thead th {\n",
       "        text-align: right;\n",
       "    }\n",
       "</style>\n",
       "<table border=\"1\" class=\"dataframe\">\n",
       "  <thead>\n",
       "    <tr style=\"text-align: right;\">\n",
       "      <th></th>\n",
       "      <th>posted</th>\n",
       "      <th>item_id</th>\n",
       "      <th>recommend</th>\n",
       "      <th>review</th>\n",
       "      <th>user_id</th>\n",
       "      <th>Año_review</th>\n",
       "      <th>review_sin_emojis</th>\n",
       "      <th>sentiment_analysis</th>\n",
       "    </tr>\n",
       "  </thead>\n",
       "  <tbody>\n",
       "    <tr>\n",
       "      <th>0</th>\n",
       "      <td>November 5 2011</td>\n",
       "      <td>1250</td>\n",
       "      <td>True</td>\n",
       "      <td>Simple yet with great replayability. In my opi...</td>\n",
       "      <td>76561197970982479</td>\n",
       "      <td>2011</td>\n",
       "      <td>Simple yet with great replayability. In my opi...</td>\n",
       "      <td>1</td>\n",
       "    </tr>\n",
       "    <tr>\n",
       "      <th>1</th>\n",
       "      <td>July 15 2011</td>\n",
       "      <td>22200</td>\n",
       "      <td>True</td>\n",
       "      <td>It's unique and worth a playthrough.</td>\n",
       "      <td>76561197970982479</td>\n",
       "      <td>2011</td>\n",
       "      <td>It's unique and worth a playthrough.</td>\n",
       "      <td>2</td>\n",
       "    </tr>\n",
       "    <tr>\n",
       "      <th>2</th>\n",
       "      <td>April 21 2011</td>\n",
       "      <td>43110</td>\n",
       "      <td>True</td>\n",
       "      <td>Great atmosphere. The gunplay can be a bit chu...</td>\n",
       "      <td>76561197970982479</td>\n",
       "      <td>2011</td>\n",
       "      <td>Great atmosphere. The gunplay can be a bit chu...</td>\n",
       "      <td>1</td>\n",
       "    </tr>\n",
       "    <tr>\n",
       "      <th>3</th>\n",
       "      <td>June 24 2014</td>\n",
       "      <td>251610</td>\n",
       "      <td>True</td>\n",
       "      <td>I know what you think when you see this title ...</td>\n",
       "      <td>js41637</td>\n",
       "      <td>2014</td>\n",
       "      <td>I know what you think when you see this title ...</td>\n",
       "      <td>1</td>\n",
       "    </tr>\n",
       "    <tr>\n",
       "      <th>4</th>\n",
       "      <td>September 8 2013</td>\n",
       "      <td>227300</td>\n",
       "      <td>True</td>\n",
       "      <td>For a simple (it's actually not all that simpl...</td>\n",
       "      <td>js41637</td>\n",
       "      <td>2013</td>\n",
       "      <td>For a simple (it's actually not all that simpl...</td>\n",
       "      <td>1</td>\n",
       "    </tr>\n",
       "  </tbody>\n",
       "</table>\n",
       "</div>"
      ],
      "text/plain": [
       "             posted  item_id  recommend  \\\n",
       "0   November 5 2011     1250       True   \n",
       "1      July 15 2011    22200       True   \n",
       "2     April 21 2011    43110       True   \n",
       "3      June 24 2014   251610       True   \n",
       "4  September 8 2013   227300       True   \n",
       "\n",
       "                                              review            user_id  \\\n",
       "0  Simple yet with great replayability. In my opi...  76561197970982479   \n",
       "1               It's unique and worth a playthrough.  76561197970982479   \n",
       "2  Great atmosphere. The gunplay can be a bit chu...  76561197970982479   \n",
       "3  I know what you think when you see this title ...            js41637   \n",
       "4  For a simple (it's actually not all that simpl...            js41637   \n",
       "\n",
       "  Año_review                                  review_sin_emojis  \\\n",
       "0       2011  Simple yet with great replayability. In my opi...   \n",
       "1       2011               It's unique and worth a playthrough.   \n",
       "2       2011  Great atmosphere. The gunplay can be a bit chu...   \n",
       "3       2014  I know what you think when you see this title ...   \n",
       "4       2013  For a simple (it's actually not all that simpl...   \n",
       "\n",
       "   sentiment_analysis  \n",
       "0                   1  \n",
       "1                   2  \n",
       "2                   1  \n",
       "3                   1  \n",
       "4                   1  "
      ]
     },
     "execution_count": 664,
     "metadata": {},
     "output_type": "execute_result"
    }
   ],
   "source": [
    "def get_sentiment_label(text):\n",
    "    analysis = TextBlob(text)\n",
    "    polarity = analysis.sentiment.polarity\n",
    "    \n",
    "    if polarity < -0.2:\n",
    "        return 0  # Malo\n",
    "    elif polarity > 0.2:\n",
    "        return 2  # Positivo\n",
    "    else:\n",
    "        return 1  # Neutral\n",
    "\n",
    "# Aplicar la función a la columna 'review' y crear la nueva columna 'sentiment_analysis'\n",
    "dfreviews['sentiment_analysis'] = dfreviews['review'].apply(get_sentiment_label)\n",
    "\n",
    "# Mostrar las primeras filas para verificar los cambios\n",
    "dfreviews.head()"
   ]
  },
  {
   "cell_type": "code",
   "execution_count": 651,
   "metadata": {},
   "outputs": [
    {
     "name": "stdout",
     "output_type": "stream",
     "text": [
      "['™', '⌛', '👍', '🐐', '♥', '♀', '☹', '☑', '👌', '🏻', '☺', '❤', '😄', '👈', '✔', '💋', '®', '😊', '😀', '😋', '💀', '😃', '©', '◀', '👀', '♠', '🐥', '💯']\n"
     ]
    }
   ],
   "source": [
    "# Función para obtener una lista de emojis únicos de un texto\n",
    "def obtener_emojis_unicos(texto):\n",
    "    return list(set(c for c in texto if c in emoji.EMOJI_DATA))\n",
    "\n",
    "# Aplicar la función a la columna 'comentarios' del DataFrame\n",
    "emojis_unicos = dfreviews.review.apply(obtener_emojis_unicos)\n",
    "\n",
    "# Convertir la lista de listas resultante en una lista plana de emojis únicos\n",
    "emojis_unicos = list(set([emoji for sublist in emojis_unicos for emoji in sublist]))\n",
    "\n",
    "# Imprimir la lista de emojis únicos\n",
    "print(emojis_unicos)\n"
   ]
  },
  {
   "cell_type": "code",
   "execution_count": 657,
   "metadata": {},
   "outputs": [
    {
     "data": {
      "text/plain": [
       "sentiment_analysis\n",
       "1    38\n",
       "Name: count, dtype: int64"
      ]
     },
     "execution_count": 657,
     "metadata": {},
     "output_type": "execute_result"
    }
   ],
   "source": [
    "#verificamos que las reviews donde no se escribió nada tengan 1 como valor como esta indicado en la consigna\n",
    "dfreviews.sentiment_analysis[(dfreviews.review=='')|(dfreviews.review==' ')].value_counts()"
   ]
  },
  {
   "cell_type": "code",
   "execution_count": 665,
   "metadata": {},
   "outputs": [
    {
     "name": "stdout",
     "output_type": "stream",
     "text": [
      "analisis de sentimientos donde la recomendacion es True y el sentimiento es positivo=  16812\n",
      "analisis de sentimientos donde la recomendacion es False y el sentimiento es negativo=  1688\n",
      "analisis de sentimientos donde la recomendacion es True y el sentimiento es neutral=  31434\n",
      "analisis de sentimientos donde la recomendacion es False y el sentimiento es neutral=  4444\n",
      "analisis de sentimientos donde la recomendacion es False y el sentimiento es positivo=  607\n",
      "analisis de sentimientos donde la recomendacion es True y el sentimiento es negativo=  3446\n",
      "58431\n"
     ]
    }
   ],
   "source": [
    "print('analisis de sentimientos donde la recomendacion es True y el sentimiento es positivo= ',dfreviews['sentiment_analysis'][(dfreviews.recommend==True) & (dfreviews.sentiment_analysis==2)].count())\n",
    "print('analisis de sentimientos donde la recomendacion es False y el sentimiento es negativo= ',dfreviews['sentiment_analysis'][(dfreviews.recommend==False) & (dfreviews.sentiment_analysis==0)].count())\n",
    "print('analisis de sentimientos donde la recomendacion es True y el sentimiento es neutral= ',dfreviews['sentiment_analysis'][(dfreviews.recommend==True) & (dfreviews.sentiment_analysis==1)].count())\n",
    "print('analisis de sentimientos donde la recomendacion es False y el sentimiento es neutral= ',dfreviews['sentiment_analysis'][(dfreviews.recommend==False) & (dfreviews.sentiment_analysis==1)].count())\n",
    "print('analisis de sentimientos donde la recomendacion es False y el sentimiento es positivo= ', dfreviews['sentiment_analysis'][(dfreviews.recommend==False) & (dfreviews.sentiment_analysis==2)].count())\n",
    "print('analisis de sentimientos donde la recomendacion es True y el sentimiento es negativo= ',dfreviews['sentiment_analysis'][(dfreviews.recommend==True) & (dfreviews.sentiment_analysis==0)].count())\n",
    "print(sum([(dfreviews['sentiment_analysis'][(dfreviews.recommend==True) & (dfreviews.sentiment_analysis==2)].count()),\n",
    "           dfreviews['sentiment_analysis'][(dfreviews.recommend==False) & (dfreviews.sentiment_analysis==0)].count(),\n",
    "           dfreviews['sentiment_analysis'][(dfreviews.recommend==True) & (dfreviews.sentiment_analysis==1)].count(),\n",
    "           dfreviews['sentiment_analysis'][(dfreviews.recommend==False) & (dfreviews.sentiment_analysis==1)].count(),\n",
    "           dfreviews['sentiment_analysis'][(dfreviews.recommend==False) & (dfreviews.sentiment_analysis==2)].count(),\n",
    "           dfreviews['sentiment_analysis'][(dfreviews.recommend==True) & (dfreviews.sentiment_analysis==0)].count(),\n",
    "           ]))\n"
   ]
  },
  {
   "cell_type": "code",
   "execution_count": 670,
   "metadata": {},
   "outputs": [
    {
     "name": "stdout",
     "output_type": "stream",
     "text": [
      "<class 'pandas.core.frame.DataFrame'>\n",
      "RangeIndex: 58431 entries, 0 to 58430\n",
      "Data columns (total 8 columns):\n",
      " #   Column              Non-Null Count  Dtype         \n",
      "---  ------              --------------  -----         \n",
      " 0   posted              58431 non-null  object        \n",
      " 1   item_id             58431 non-null  int32         \n",
      " 2   recommend           58431 non-null  bool          \n",
      " 3   review              58431 non-null  object        \n",
      " 4   user_id             58431 non-null  object        \n",
      " 5   Año_review          58431 non-null  datetime64[ns]\n",
      " 6   review_sin_emojis   58431 non-null  object        \n",
      " 7   sentiment_analysis  58431 non-null  int64         \n",
      "dtypes: bool(1), datetime64[ns](1), int32(1), int64(1), object(4)\n",
      "memory usage: 3.0+ MB\n"
     ]
    }
   ],
   "source": [
    "# cambiamos el tipo de dato de la columna item_id y de Año_review\n",
    "dfreviews.item_id=dfreviews.item_id.astype(int)\n",
    "dfreviews.Año_review= pd.to_datetime(dfreviews.Año_review, format='%Y')\n",
    "dfreviews.info()"
   ]
  },
  {
   "cell_type": "code",
   "execution_count": 675,
   "metadata": {},
   "outputs": [
    {
     "data": {
      "text/plain": [
       "Index(['posted', 'Id_juego', 'Recommend', 'review', 'Id_usuario', 'Año_review',\n",
       "       'review_sin_emojis', 'sentiment_analysis'],\n",
       "      dtype='object')"
      ]
     },
     "execution_count": 675,
     "metadata": {},
     "output_type": "execute_result"
    }
   ],
   "source": [
    "dfreviews.rename(columns={'item_id':'Id_juego','recommend':'Recommend','user_id':'Id_usuario'},inplace=True)\n",
    "dfreviews.columns"
   ]
  },
  {
   "cell_type": "code",
   "execution_count": 676,
   "metadata": {},
   "outputs": [
    {
     "data": {
      "text/plain": [
       "Index(['Id_juego', 'Recommend', 'Id_usuario', 'Año_review',\n",
       "       'sentiment_analysis'],\n",
       "      dtype='object')"
      ]
     },
     "execution_count": 676,
     "metadata": {},
     "output_type": "execute_result"
    }
   ],
   "source": [
    "dfreviews.drop(columns=['posted','review','review_sin_emojis'],inplace=True)\n",
    "dfreviews.columns"
   ]
  },
  {
   "cell_type": "code",
   "execution_count": 677,
   "metadata": {},
   "outputs": [],
   "source": [
    "dfreviews.to_csv('revies_por_usuario.csv',index=False)"
   ]
  }
 ],
 "metadata": {
  "kernelspec": {
   "display_name": "Python 3",
   "language": "python",
   "name": "python3"
  },
  "language_info": {
   "codemirror_mode": {
    "name": "ipython",
    "version": 3
   },
   "file_extension": ".py",
   "mimetype": "text/x-python",
   "name": "python",
   "nbconvert_exporter": "python",
   "pygments_lexer": "ipython3",
   "version": "3.11.6"
  }
 },
 "nbformat": 4,
 "nbformat_minor": 2
}
